{
  "nbformat": 4,
  "nbformat_minor": 0,
  "metadata": {
    "colab": {
      "name": "Project 3 - kriptografi.ipynb",
      "provenance": [],
      "collapsed_sections": [],
      "include_colab_link": true
    },
    "kernelspec": {
      "name": "python3",
      "display_name": "Python 3"
    }
  },
  "cells": [
    {
      "cell_type": "markdown",
      "metadata": {
        "id": "view-in-github",
        "colab_type": "text"
      },
      "source": [
        "<a href=\"https://colab.research.google.com/github/Rifkywahyuda/Covid-Simulation/blob/master/Project_3_kriptografi.ipynb\" target=\"_parent\"><img src=\"https://colab.research.google.com/assets/colab-badge.svg\" alt=\"Open In Colab\"/></a>"
      ]
    },
    {
      "cell_type": "markdown",
      "metadata": {
        "id": "63bYIsEJg5qW",
        "colab_type": "text"
      },
      "source": [
        "# Kriptografi metode Caesar\n",
        "\n",
        "pra-syarat untuk bisa mengerjakan:\n",
        "* list dan string method\n",
        "\n",
        "\n",
        "## Deadline (06.00 AM WIB 29/06/2020)\n",
        "\n",
        "## Jadwal update github: Rabu, Sabtu, Senin\n",
        "\n"
      ]
    },
    {
      "cell_type": "markdown",
      "metadata": {
        "id": "8dXn_wRVhz8W",
        "colab_type": "text"
      },
      "source": [
        "## Enkripsi dengan metode Caesar:\n",
        "Metode merupakan metode yang paling sederhana dalam melakukan enkripsi. Teknik ini hanya melakukan pemetaan suatu karakter huruf (angka dan karakter spesial tidak termasuk) dengan metode pergeseran karakter. contoh\n",
        "\n",
        "| huruf | shift 2 | shift 3 | shift 4 | shift -2 |\n",
        "|-------|---------|---------|---------|----------|\n",
        "| a     | c       | d       | e       | y        |\n",
        "| A     | C       | D       | E       | Y        |\n",
        "| c     | e       | f       | g       | a        |\n",
        "| z     | b       | c       | d       | x        |\n",
        "| %     | %       | %       | %       | %        |\n",
        "| _     | _       | _       | _       | _        |\n",
        "| 5     | 5       | 5       | 5       | 5        |\n",
        "\n",
        "ketentuan:\n",
        "* pergeseran satu huruf setelah `z` adalah `a`.\n",
        "* Jika input karakter merupakan huruf kapital maka output juga kapital, begitu juga dengan huruf kecil/non-kapital.\n",
        "* semua yang bukan huruf tidak berubah, jadi kalau ada suatu angka maka karakter enkripsinya tetap angka tersebut, begitu juga dengan semua karater spesial termasuk spasi.\n",
        "\n",
        "### Maka, untuk mendeskripsikan (decript) sama dengan menggeser ke arah sebaliknya.\n"
      ]
    },
    {
      "cell_type": "markdown",
      "metadata": {
        "id": "HRG5HjZWl5Yg",
        "colab_type": "text"
      },
      "source": [
        "## 1. Buatlah fungsi `caesar_encript`, dengan argumen `txt` (string) dan `shift` (intiger) seperti dibawah ini. Yang melakukan peng-ekripsian menggunakan metode Caesar terhadap string `txt`. Keluaran dari fungsi ini berupa string terenkripsi / chiper text.\n",
        " \n",
        "**hint**: method yang mungkin berguna:\n",
        "* `ord()`, `chr()`\n",
        "* string method: `.isalpha()`, `.islower()`, dll\n",
        "* jumlah karakter abjad 26\n",
        "* nilai ord dari abjad/huruf berurutan"
      ]
    },
    {
      "cell_type": "code",
      "metadata": {
        "id": "4Z7_zRLc1ab2",
        "colab_type": "code",
        "colab": {}
      },
      "source": [
        "# Graded\n",
        "def caesar_encript(txt,shift):\n",
        "  pass\n",
        "  cipher = ''\n",
        "  for char in txt: \n",
        "    if char.isalpha():\n",
        "      if  char.isupper():\n",
        "        cipher = cipher + chr((ord(char) + shift - 65) % 26 + 65)\n",
        "      else:\n",
        "        cipher = cipher + chr((ord(char) + shift - 97) % 26 + 97)\n",
        "    else:\n",
        "      cipher = cipher + char\n",
        "  return cipher\n",
        "# Fungsi Decript caesar\n",
        "def caesar_decript(chiper,shift):\n",
        "  return caesar_encript(chiper,-shift)"
      ],
      "execution_count": 440,
      "outputs": []
    },
    {
      "cell_type": "code",
      "metadata": {
        "id": "RinXeiRMuGeC",
        "colab_type": "code",
        "colab": {
          "base_uri": "https://localhost:8080/",
          "height": 51
        },
        "outputId": "1de41cee-f832-4ffd-a1cf-360045a8c1be"
      },
      "source": [
        "msg = 'Haaaaaaaaaa aaaaaaaaaaa aaaa'\n",
        "cpr = caesar_encript(msg,4)\n",
        "txt = caesar_decript(cpr,4)\n",
        "\n",
        "print('plain text:',txt)\n",
        "print('chiper text:',cpr)"
      ],
      "execution_count": 441,
      "outputs": [
        {
          "output_type": "stream",
          "text": [
            "plain text: Haaaaaaaaaa aaaaaaaaaaa aaaa\n",
            "chiper text: Leeeeeeeeee eeeeeeeeeee eeee\n"
          ],
          "name": "stdout"
        }
      ]
    },
    {
      "cell_type": "code",
      "metadata": {
        "id": "6I-940gx9US9",
        "colab_type": "code",
        "colab": {
          "base_uri": "https://localhost:8080/",
          "height": 51
        },
        "outputId": "a51a9a9b-aa6f-4688-a8f8-6edbb1017a6d"
      },
      "source": [
        "# Sanity check!!!\n",
        "\n",
        "msg = 'Haloz DTS mania, MANTAPSZZZ!'\n",
        "cpr = caesar_encript(msg,4)\n",
        "txt = caesar_decript(cpr,4)\n",
        "\n",
        "print('plain text:',txt)\n",
        "print('chiper text:',cpr)\n"
      ],
      "execution_count": 442,
      "outputs": [
        {
          "output_type": "stream",
          "text": [
            "plain text: Haloz DTS mania, MANTAPSZZZ!\n",
            "chiper text: Lepsd HXW qerme, QERXETWDDD!\n"
          ],
          "name": "stdout"
        }
      ]
    },
    {
      "cell_type": "markdown",
      "metadata": {
        "id": "pgr46Bcs1Wx6",
        "colab_type": "text"
      },
      "source": [
        "### Expected output:\n",
        "```\n",
        "plain text: Haloz DTS mania, MANTAPSZZZ!\n",
        "chiper text: Lepsd HXW qerme, QERXETWDDD!\n",
        "```"
      ]
    },
    {
      "cell_type": "markdown",
      "metadata": {
        "id": "8QOvb_m7oJvX",
        "colab_type": "text"
      },
      "source": [
        "## Intro 2:\n",
        "### Fungsi shuffle_order akan mengurutkan string `txt` sesuai dengan list `order` parameter. Dimana `len(txt)==len(order)` dan elemen atau item di dalam order memenuhi $x \\in \\{0,..,\\rm{len(txt)-1}\\}$.\n",
        "contoh: \n",
        "`(str) abcde: (list) [0,4,3,2,1]` maka keluarannya adalah `aedcb`. \n",
        "Fungsi ini akan digunakan di soal nomor 3 saat kita bermaksud mengirimkan text terenkripsi secara berkala dengan urutan acak dalam bentuk text-text yang lebih kecil.\n",
        "\n",
        "\n"
      ]
    },
    {
      "cell_type": "markdown",
      "metadata": {
        "id": "wjRTLV_QzZuv",
        "colab_type": "text"
      },
      "source": [
        " \n",
        "## 2. Buatlah fungsi `deshuffle_order`, dengan argument `sftxt` (string) dan `order` (list). Yang akan mengembalikan urutan string kembali seperti semula sebelum di-shuffle. Sedemikian hingga: \n",
        "`deshuffle_order(shuffle_order(txt,order),order) == txt`\n",
        " \n",
        "**hint: list method `.index()`**"
      ]
    },
    {
      "cell_type": "code",
      "metadata": {
        "id": "ik5_8uKeAElC",
        "colab_type": "code",
        "colab": {}
      },
      "source": [
        "# Graded\n",
        " \n",
        "# Fungsi mengacak urutan\n",
        "def shuffle_order(txt,order):\n",
        "  return ''.join([txt[i] for i in order])\n",
        " \n",
        "# Fungsi untuk mengurutkan kembali sesuai order\n",
        "def deshuffle_order(sftxt,order):\n",
        "  sorted1= zip(order, list(sftxt))\n",
        "  dicted=dict(sorted1)\n",
        "  sort2=dict(sorted(dicted.items()))\n",
        "  hasil = sort2.values()\n",
        "  return ''.join(hasil)\n",
        "  # Mulai Kode anda di sini"
      ],
      "execution_count": 443,
      "outputs": []
    },
    {
      "cell_type": "code",
      "metadata": {
        "id": "ktLyUiAZROkw",
        "colab_type": "code",
        "colab": {
          "base_uri": "https://localhost:8080/",
          "height": 51
        },
        "outputId": "6c48d524-ad90-4a16-e617-af18a15146e4"
      },
      "source": [
        "# Sanity check!!!\n",
        " \n",
        "print(shuffle_order('abcd',[2,1,3,0]))\n",
        "print(deshuffle_order('cbda',[2,1,3,0]))"
      ],
      "execution_count": 444,
      "outputs": [
        {
          "output_type": "stream",
          "text": [
            "cbda\n",
            "abcd\n"
          ],
          "name": "stdout"
        }
      ]
    },
    {
      "cell_type": "markdown",
      "metadata": {
        "id": "A7tc2wQv1krn",
        "colab_type": "text"
      },
      "source": [
        "### Expected output:\n",
        "```\n",
        "cbda\n",
        "abcd\n",
        "```"
      ]
    },
    {
      "cell_type": "markdown",
      "metadata": {
        "id": "0rD42GEyrywz",
        "colab_type": "text"
      },
      "source": [
        "## Intro 3.\n",
        "### Kita akan mengirimkan text melalui sebuah media komunikasi dengan bentuk paket-paket text yang lebih kecil. \n",
        "Misalkan, media komunikasi tersebut hanya memperbolehkan untuk mengirimkan 4 karakter dalam satu waktu. Sehingga, jika kita memiliki sebuah pesan `halo*DTS`, maka kita perlu memecah pesan tersebut menjadi batch-batch yang terdiri dari 4 karakter, dengan kata lain `halo*DTS` perlu dipecah menjadi dua batch yaitu `halo` dan `*DTS`.\n",
        "\n",
        "Namun, Apabila jumlah karakter tidak penuh, contoh: `haloPY` akan menjadi `halo` dana `PY__`, dimana untuk kekurangan karakter diakhir sesuai panjang batch (dalam hal ini 4) ditambkan karakter `_` underscore sejumlah kekurangan tersebut. \n",
        "\n",
        "Untuk memperaman komunikasi, kita bisa `shuffle` urutan karakter-karakter tersebut dengan fungsi di nomor 2.\n",
        "\n",
        "Perhatikan alur pengiriman pesan seperti gambar ilustrasi di bawah ini.\n",
        "\n",
        "![ilustrasi](https://github.com/sykrn/py-dts/blob/master/asets/enkrip.jpg?raw=true)\n",
        "\n",
        "\n",
        "\n"
      ]
    },
    {
      "cell_type": "markdown",
      "metadata": {
        "id": "lCTGVZwjzcir",
        "colab_type": "text"
      },
      "source": [
        "## 3. Buatlah fungsi `send_batch` dengan argument `txt` (string), `batch_order` (list), dan `shift` (int). Fungsi ini akan memecah text menjadi bagian-bagian yang lebih kecil sesuai dengan panjang dari `batch_order`, di mana batch_order tersebut merupakan list index untuk men-shuffle setiap batch dengan menggunakan fungsi di nomor 2. Keluaran fungsi ini berupa list batch teks terenkripsi.   \n",
        " \n",
        "**Note: tambahkan underscore di akhir (sebelum dipecah menjadi batches) jika panjang `txt` belum memenuhi kelipatan panjang satu batch yaitu `len(batch_order)`.**\n",
        " \n",
        "**Hint: Lihat intro 3 dan gambar, gunakan library `math` jika diperlukan**"
      ]
    },
    {
      "cell_type": "code",
      "metadata": {
        "id": "Qw6_gGPMR42q",
        "colab_type": "code",
        "colab": {}
      },
      "source": [
        "# Graded\n",
        " \n",
        "import math\n",
        " \n",
        " \n",
        "# convert txt ke dalam bentuk list teks yang lebih pendek\n",
        "# dan terenkrispi dengan urutan acak setiap batchnya\n",
        "def send_batch(txt,batch_order,shift=3):\n",
        "  pass\n",
        "  # Mulai Kode anda di sini\n",
        "  encrypt = caesar_encript(txt,shift)\n",
        "  panjang = int(len(encrypt))\n",
        "  if len(encrypt) % 4!=0:\n",
        "    encrypt = encrypt +((4-(panjang%4))*'_')\n",
        "  else:\n",
        "    encrypt = encrypt\n",
        "  panjang = int(len(encrypt))\n",
        "  panjang2=int(panjang/4)\n",
        "  list1=[]\n",
        "  while encrypt:\n",
        "    list1.append(encrypt[:4])\n",
        "    encrypt = encrypt[4:]\n",
        "  batch_cpr=[]\n",
        "  for i in range (len(list1)):\n",
        "    fungsi = (shuffle_order(list1[i], batch_order))\n",
        "    batch_cpr.append(fungsi)\n",
        "  return batch_cpr\n",
        "  \n",
        "\n",
        "# batch_cpr: list keluaran send_batch\n",
        "# fungsi ini akan mengembalikan lagi ke txt semula\n",
        "def receive_batch(batch_cpr,batch_order,shift=3):\n",
        "  batch_txt = [caesar_decript(deshuffle_order(i,batch_order),shift) for i in batch_cpr]\n",
        "  return ''.join(batch_txt).strip('_')"
      ],
      "execution_count": 445,
      "outputs": []
    },
    {
      "cell_type": "code",
      "metadata": {
        "id": "nWxyt3C7WVgW",
        "colab_type": "code",
        "colab": {
          "base_uri": "https://localhost:8080/",
          "height": 51
        },
        "outputId": "99e1398b-4def-4568-dc2f-b3b4fbbff18c"
      },
      "source": [
        "# Sanity check!!!\n",
        " \n",
        "msg_cpr = send_batch('halo DTS mania, mantaaap!!!',[2,1,3,0],4)\n",
        "msg_txt = receive_batch(msg_cpr,[2,1,3,0],4)\n",
        "print(msg_txt,msg_cpr,sep='\\n')"
      ],
      "execution_count": 446,
      "outputs": [
        {
          "output_type": "stream",
          "text": [
            "halo DTS mania, mantaaap!!!\n",
            "['pesl', 'XHW ', 'eqr ', ',e m', 'rexq', 'eete', '!!_!']\n"
          ],
          "name": "stdout"
        }
      ]
    },
    {
      "cell_type": "markdown",
      "metadata": {
        "id": "PsiYqaWJ1raR",
        "colab_type": "text"
      },
      "source": [
        "### Expected output:\n",
        "```\n",
        "halo DTS mania, mantaaap!!!\n",
        "['pesl', 'XHW ', 'eqr ', ',e m', 'rexq', 'eete', '!!_!']\n",
        "```"
      ]
    },
    {
      "cell_type": "code",
      "metadata": {
        "id": "7v-auBoh13uf",
        "colab_type": "code",
        "colab": {
          "base_uri": "https://localhost:8080/",
          "height": 231
        },
        "outputId": "b0b1d9c5-3e57-4c06-8caa-9dd60965721c"
      },
      "source": [
        "from textwrap import wrap\n",
        "encrypt = 'halo DTS mania, mantaaap!!!'\n",
        "panjang = int(len(encrypt))\n",
        "if len(encrypt) % 4!=0:\n",
        "  encrypt = encrypt +((4-(panjang%4))*'_')\n",
        "else:\n",
        "  encrypt = encrypt\n",
        "panjang = int(len(encrypt))\n",
        "panjang2=int(panjang/4)\n",
        "list1=[]\n",
        "#for i in range (panjang2):\n",
        "#list1=wrap(encrypt, 4)\n",
        "while encrypt:\n",
        "  list1.append(encrypt[:4])\n",
        "  encrypt = encrypt[4:]\n",
        "for i in range (len(list1)):\n",
        "  shuffle = shuffle + (deshuffle_order(list1[i], batch_order))\n",
        "  \n",
        "  \n",
        "\n",
        "  \n",
        "print(shuffle)"
      ],
      "execution_count": 407,
      "outputs": [
        {
          "output_type": "error",
          "ename": "NameError",
          "evalue": "ignored",
          "traceback": [
            "\u001b[0;31m---------------------------------------------------------------------------\u001b[0m",
            "\u001b[0;31mNameError\u001b[0m                                 Traceback (most recent call last)",
            "\u001b[0;32m<ipython-input-407-9b3c333c83b0>\u001b[0m in \u001b[0;36m<module>\u001b[0;34m()\u001b[0m\n\u001b[1;32m     15\u001b[0m   \u001b[0mencrypt\u001b[0m \u001b[0;34m=\u001b[0m \u001b[0mencrypt\u001b[0m\u001b[0;34m[\u001b[0m\u001b[0;36m4\u001b[0m\u001b[0;34m:\u001b[0m\u001b[0;34m]\u001b[0m\u001b[0;34m\u001b[0m\u001b[0;34m\u001b[0m\u001b[0m\n\u001b[1;32m     16\u001b[0m \u001b[0;32mfor\u001b[0m \u001b[0mi\u001b[0m \u001b[0;32min\u001b[0m \u001b[0mrange\u001b[0m \u001b[0;34m(\u001b[0m\u001b[0mlen\u001b[0m\u001b[0;34m(\u001b[0m\u001b[0mlist1\u001b[0m\u001b[0;34m)\u001b[0m\u001b[0;34m)\u001b[0m\u001b[0;34m:\u001b[0m\u001b[0;34m\u001b[0m\u001b[0;34m\u001b[0m\u001b[0m\n\u001b[0;32m---> 17\u001b[0;31m   \u001b[0mshuffle\u001b[0m \u001b[0;34m=\u001b[0m \u001b[0;34m(\u001b[0m\u001b[0mdeshuffle_order\u001b[0m\u001b[0;34m(\u001b[0m\u001b[0mlist1\u001b[0m\u001b[0;34m[\u001b[0m\u001b[0mi\u001b[0m\u001b[0;34m]\u001b[0m\u001b[0;34m,\u001b[0m \u001b[0mbatch_order\u001b[0m\u001b[0;34m)\u001b[0m\u001b[0;34m)\u001b[0m\u001b[0;34m\u001b[0m\u001b[0;34m\u001b[0m\u001b[0m\n\u001b[0m\u001b[1;32m     18\u001b[0m \u001b[0;34m\u001b[0m\u001b[0m\n\u001b[1;32m     19\u001b[0m \u001b[0;34m\u001b[0m\u001b[0m\n",
            "\u001b[0;31mNameError\u001b[0m: name 'batch_order' is not defined"
          ]
        }
      ]
    },
    {
      "cell_type": "markdown",
      "metadata": {
        "id": "UqSVK8QyKCPX",
        "colab_type": "text"
      },
      "source": [
        "# Cara Submit\n",
        "0. Isikan variable priority dengan nilai yang lebih besar dari submisi sebelumnya untuk revisi.\n",
        "1. Tuliskan email akun netacad anda di variable email (tentunya dengan tanda kutip) \n",
        "2. Copy-paste **SEMUA** cell yang ada komentar `#Graded` ke cell code di bawah ini.\n",
        "3. Simpan kode tersebut sebagai p3.py\n",
        "4. Submit file ke google form berikut: https://forms.gle/s2QuuEnbj3jpMKHi6\n",
        "5. Pengisian form membutuhkan anda login ke akun google anda.\n"
      ]
    },
    {
      "cell_type": "code",
      "metadata": {
        "id": "6M4OpTknKIOT",
        "colab_type": "code",
        "colab": {}
      },
      "source": [
        "# nama file p3.py \n",
        "# Isikan email anda dan copy semua cell code yang dengan komentar #Graded\n",
        "\n",
        "# untuk revisi dan resubmisi sebelum deadline\n",
        "# silakan di resubmit dengan nilai variable priority yang lebih besar dari\n",
        "# nilai priority submisi sebelumnya\n",
        "# JIKA TIDAK ADA VARIABLE priority DIANGGAP priority=0\n",
        "priority = 0\n",
        "\n",
        "#netacad email cth: 'abcd@gmail.com'\n",
        "email=''\n",
        " \n",
        "# copy-paste semua #Graded cells YANG SUDAH ANDA KERJAKAN di bawah ini"
      ],
      "execution_count": null,
      "outputs": []
    }
  ]
}